{
 "cells": [
  {
   "cell_type": "code",
   "execution_count": 64,
   "metadata": {},
   "outputs": [],
   "source": [
    "import pandas as pd\n",
    "import matplotlib.pyplot as plt\n",
    "import seaborn as sns"
   ]
  },
  {
   "cell_type": "markdown",
   "metadata": {},
   "source": [
    "# Getting data"
   ]
  },
  {
   "cell_type": "code",
   "execution_count": 102,
   "metadata": {},
   "outputs": [
    {
     "name": "stdout",
     "output_type": "stream",
     "text": [
      "<class 'pandas.core.frame.DataFrame'>\n",
      "RangeIndex: 500 entries, 0 to 499\n",
      "Data columns (total 5 columns):\n",
      " #   Column                        Non-Null Count  Dtype  \n",
      "---  ------                        --------------  -----  \n",
      " 0   Node_ID                       500 non-null    object \n",
      " 1   Processing_Power_GHz          500 non-null    float64\n",
      " 2   Available_Memory_GB           500 non-null    int64  \n",
      " 3   Energy_Consumption_Rate_J_ms  500 non-null    float64\n",
      " 4   Network_Latency_ms            500 non-null    int64  \n",
      "dtypes: float64(2), int64(2), object(1)\n",
      "memory usage: 19.7+ KB\n",
      "<class 'pandas.core.frame.DataFrame'>\n",
      "RangeIndex: 11000 entries, 0 to 10999\n",
      "Data columns (total 8 columns):\n",
      " #   Column                     Non-Null Count  Dtype  \n",
      "---  ------                     --------------  -----  \n",
      " 0   Task_ID                    11000 non-null  object \n",
      " 1   Task_Length_MIns           11000 non-null  int64  \n",
      " 2   Arrival_Time_s             11000 non-null  int64  \n",
      " 3   Deadline_s                 11000 non-null  int64  \n",
      " 4   Required_Computation_MIPS  11000 non-null  int64  \n",
      " 5   Task_Allocation            11000 non-null  object \n",
      " 6   Execution_Delay_ms         11000 non-null  float64\n",
      " 7   Energy_Consumption_J       11000 non-null  float64\n",
      "dtypes: float64(2), int64(4), object(2)\n",
      "memory usage: 687.6+ KB\n"
     ]
    }
   ],
   "source": [
    "nodes = pd.read_csv(\"../data/large_synthetic_fog_nodes.csv\")\n",
    "tasks = pd.read_csv(\"../data/large_synthetic_tasks.csv\")\n",
    "\n",
    "nodes.info()\n",
    "tasks.info()"
   ]
  },
  {
   "cell_type": "code",
   "execution_count": 107,
   "metadata": {},
   "outputs": [
    {
     "data": {
      "text/html": [
       "<div>\n",
       "<style scoped>\n",
       "    .dataframe tbody tr th:only-of-type {\n",
       "        vertical-align: middle;\n",
       "    }\n",
       "\n",
       "    .dataframe tbody tr th {\n",
       "        vertical-align: top;\n",
       "    }\n",
       "\n",
       "    .dataframe thead th {\n",
       "        text-align: right;\n",
       "    }\n",
       "</style>\n",
       "<table border=\"1\" class=\"dataframe\">\n",
       "  <thead>\n",
       "    <tr style=\"text-align: right;\">\n",
       "      <th></th>\n",
       "      <th>Node_ID</th>\n",
       "      <th>Processing_Power_GHz</th>\n",
       "      <th>Available_Memory_GB</th>\n",
       "      <th>Energy_Consumption_Rate_J_ms</th>\n",
       "      <th>Network_Latency_ms</th>\n",
       "    </tr>\n",
       "  </thead>\n",
       "  <tbody>\n",
       "    <tr>\n",
       "      <th>0</th>\n",
       "      <td>N1</td>\n",
       "      <td>3.228483</td>\n",
       "      <td>89</td>\n",
       "      <td>0.328811</td>\n",
       "      <td>28</td>\n",
       "    </tr>\n",
       "    <tr>\n",
       "      <th>1</th>\n",
       "      <td>N2</td>\n",
       "      <td>1.615700</td>\n",
       "      <td>71</td>\n",
       "      <td>0.553022</td>\n",
       "      <td>32</td>\n",
       "    </tr>\n",
       "    <tr>\n",
       "      <th>2</th>\n",
       "      <td>N3</td>\n",
       "      <td>2.020780</td>\n",
       "      <td>70</td>\n",
       "      <td>0.231735</td>\n",
       "      <td>23</td>\n",
       "    </tr>\n",
       "    <tr>\n",
       "      <th>3</th>\n",
       "      <td>N4</td>\n",
       "      <td>1.806147</td>\n",
       "      <td>15</td>\n",
       "      <td>0.543662</td>\n",
       "      <td>14</td>\n",
       "    </tr>\n",
       "    <tr>\n",
       "      <th>4</th>\n",
       "      <td>N5</td>\n",
       "      <td>1.590314</td>\n",
       "      <td>58</td>\n",
       "      <td>0.680510</td>\n",
       "      <td>38</td>\n",
       "    </tr>\n",
       "  </tbody>\n",
       "</table>\n",
       "</div>"
      ],
      "text/plain": [
       "  Node_ID  Processing_Power_GHz  Available_Memory_GB  \\\n",
       "0      N1              3.228483                   89   \n",
       "1      N2              1.615700                   71   \n",
       "2      N3              2.020780                   70   \n",
       "3      N4              1.806147                   15   \n",
       "4      N5              1.590314                   58   \n",
       "\n",
       "   Energy_Consumption_Rate_J_ms  Network_Latency_ms  \n",
       "0                      0.328811                  28  \n",
       "1                      0.553022                  32  \n",
       "2                      0.231735                  23  \n",
       "3                      0.543662                  14  \n",
       "4                      0.680510                  38  "
      ]
     },
     "execution_count": 107,
     "metadata": {},
     "output_type": "execute_result"
    }
   ],
   "source": [
    "nodes.head()"
   ]
  },
  {
   "cell_type": "code",
   "execution_count": 110,
   "metadata": {},
   "outputs": [
    {
     "data": {
      "text/html": [
       "<div>\n",
       "<style scoped>\n",
       "    .dataframe tbody tr th:only-of-type {\n",
       "        vertical-align: middle;\n",
       "    }\n",
       "\n",
       "    .dataframe tbody tr th {\n",
       "        vertical-align: top;\n",
       "    }\n",
       "\n",
       "    .dataframe thead th {\n",
       "        text-align: right;\n",
       "    }\n",
       "</style>\n",
       "<table border=\"1\" class=\"dataframe\">\n",
       "  <thead>\n",
       "    <tr style=\"text-align: right;\">\n",
       "      <th></th>\n",
       "      <th>Task_ID</th>\n",
       "      <th>Task_Length_MIns</th>\n",
       "      <th>Arrival_Time_s</th>\n",
       "      <th>Deadline_s</th>\n",
       "      <th>Required_Computation_MIPS</th>\n",
       "      <th>Task_Allocation</th>\n",
       "      <th>Execution_Delay_ms</th>\n",
       "      <th>Energy_Consumption_J</th>\n",
       "    </tr>\n",
       "  </thead>\n",
       "  <tbody>\n",
       "    <tr>\n",
       "      <th>0</th>\n",
       "      <td>T1</td>\n",
       "      <td>8189</td>\n",
       "      <td>178</td>\n",
       "      <td>38</td>\n",
       "      <td>4620</td>\n",
       "      <td>Cloud</td>\n",
       "      <td>2895.685833</td>\n",
       "      <td>1703.730027</td>\n",
       "    </tr>\n",
       "    <tr>\n",
       "      <th>1</th>\n",
       "      <td>T2</td>\n",
       "      <td>2937</td>\n",
       "      <td>693</td>\n",
       "      <td>125</td>\n",
       "      <td>2225</td>\n",
       "      <td>Cloud</td>\n",
       "      <td>934.965670</td>\n",
       "      <td>243.805511</td>\n",
       "    </tr>\n",
       "    <tr>\n",
       "      <th>2</th>\n",
       "      <td>T3</td>\n",
       "      <td>1486</td>\n",
       "      <td>372</td>\n",
       "      <td>124</td>\n",
       "      <td>3954</td>\n",
       "      <td>Cloud</td>\n",
       "      <td>835.975051</td>\n",
       "      <td>376.888729</td>\n",
       "    </tr>\n",
       "    <tr>\n",
       "      <th>3</th>\n",
       "      <td>T4</td>\n",
       "      <td>4687</td>\n",
       "      <td>279</td>\n",
       "      <td>76</td>\n",
       "      <td>4455</td>\n",
       "      <td>Cloud</td>\n",
       "      <td>1617.295452</td>\n",
       "      <td>1090.691451</td>\n",
       "    </tr>\n",
       "    <tr>\n",
       "      <th>4</th>\n",
       "      <td>T5</td>\n",
       "      <td>1447</td>\n",
       "      <td>13</td>\n",
       "      <td>13</td>\n",
       "      <td>4776</td>\n",
       "      <td>Fog</td>\n",
       "      <td>425.592142</td>\n",
       "      <td>248.998343</td>\n",
       "    </tr>\n",
       "  </tbody>\n",
       "</table>\n",
       "</div>"
      ],
      "text/plain": [
       "  Task_ID  Task_Length_MIns  Arrival_Time_s  Deadline_s  \\\n",
       "0      T1              8189             178          38   \n",
       "1      T2              2937             693         125   \n",
       "2      T3              1486             372         124   \n",
       "3      T4              4687             279          76   \n",
       "4      T5              1447              13          13   \n",
       "\n",
       "   Required_Computation_MIPS Task_Allocation  Execution_Delay_ms  \\\n",
       "0                       4620           Cloud         2895.685833   \n",
       "1                       2225           Cloud          934.965670   \n",
       "2                       3954           Cloud          835.975051   \n",
       "3                       4455           Cloud         1617.295452   \n",
       "4                       4776             Fog          425.592142   \n",
       "\n",
       "   Energy_Consumption_J  \n",
       "0           1703.730027  \n",
       "1            243.805511  \n",
       "2            376.888729  \n",
       "3           1090.691451  \n",
       "4            248.998343  "
      ]
     },
     "execution_count": 110,
     "metadata": {},
     "output_type": "execute_result"
    }
   ],
   "source": [
    "tasks.head()"
   ]
  },
  {
   "cell_type": "code",
   "execution_count": null,
   "metadata": {},
   "outputs": [],
   "source": [
    "mapping = {'Cloud': 1, 'Fog': 2}\n",
    "tasks['Task_Allocation'] = df['Task_Allocation'].map(mapping)"
   ]
  },
  {
   "cell_type": "code",
   "execution_count": 117,
   "metadata": {},
   "outputs": [
    {
     "data": {
      "text/plain": [
       "Task_Allocation\n",
       "Cloud    10182\n",
       "Fog        818\n",
       "Name: count, dtype: int64"
      ]
     },
     "execution_count": 117,
     "metadata": {},
     "output_type": "execute_result"
    }
   ],
   "source": [
    "tasks.Task_Allocation.value_counts()"
   ]
  },
  {
   "cell_type": "markdown",
   "metadata": {},
   "source": [
    "# EDA"
   ]
  },
  {
   "cell_type": "code",
   "execution_count": null,
   "metadata": {},
   "outputs": [],
   "source": []
  }
 ],
 "metadata": {
  "kernelspec": {
   "display_name": "pvenv",
   "language": "python",
   "name": "python3"
  },
  "language_info": {
   "codemirror_mode": {
    "name": "ipython",
    "version": 3
   },
   "file_extension": ".py",
   "mimetype": "text/x-python",
   "name": "python",
   "nbconvert_exporter": "python",
   "pygments_lexer": "ipython3",
   "version": "3.13.2"
  }
 },
 "nbformat": 4,
 "nbformat_minor": 2
}
